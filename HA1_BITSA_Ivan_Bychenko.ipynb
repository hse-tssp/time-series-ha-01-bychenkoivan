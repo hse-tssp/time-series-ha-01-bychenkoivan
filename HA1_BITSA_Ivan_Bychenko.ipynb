{
 "cells": [
  {
   "cell_type": "code",
   "execution_count": 1,
   "metadata": {},
   "outputs": [],
   "source": [
    "## Time Series Analysis: Home Assignment 1"
   ]
  },
  {
   "cell_type": "markdown",
   "metadata": {},
   "source": [
    "due to **11.02.21 23:00**\n",
    "\n",
    "You need to upload HA1 to github repository,  the link will be provided later."
   ]
  },
  {
   "cell_type": "markdown",
   "metadata": {},
   "source": [
    "Enter your name below: "
   ]
  },
  {
   "cell_type": "code",
   "execution_count": 19,
   "metadata": {},
   "outputs": [],
   "source": [
    "name='Bychenko Ivan' "
   ]
  },
  {
   "cell_type": "markdown",
   "metadata": {},
   "source": [
    "### Contents"
   ]
  },
  {
   "cell_type": "markdown",
   "metadata": {},
   "source": [
    "1. **Data preparation (7 points)**\n",
    "\n",
    "    $1.0$ Download data and import functions\n",
    "    \n",
    "    $1.1$ Read data (1 pt.)\n",
    "    \n",
    "    $1.2$ Check NAs (1 pt.)\n",
    "    \n",
    "    $1.3$ Transform dates (2 pt.)\n",
    "    \n",
    "    $1.4$. Make some plots (0.75 pt.)\n",
    "    \n",
    "    $1.5$ Split the data (0.75 pt.)\n",
    "    \n",
    " \n",
    "2. **ETS (7 points)**\n",
    "\n",
    "    $2.1$ Estimate ETS (1 pt.)\n",
    "    \n",
    "    $2.2$ Point forecasts (1 pt.)\n",
    "    \n",
    "    $2.3$ Interval forecasts 1 (1 pt.)\n",
    "    \n",
    "    $2.4$ Interval forecasts 2 (1 pt.)\n",
    "    \n",
    "    $2.5$ Forecast quality metrics (2 pt.)\n",
    "    \n",
    "    $2.6$ Model comparison (1 pt.)\n",
    "    "
   ]
  },
  {
   "cell_type": "markdown",
   "metadata": {},
   "source": [
    "## 1. Data preparation (7 pt.)"
   ]
  },
  {
   "cell_type": "markdown",
   "metadata": {},
   "source": [
    "### 1.0 Download data and import functions\n",
    "[back to contents](#Contents)"
   ]
  },
  {
   "cell_type": "markdown",
   "metadata": {},
   "source": [
    "You have to download [BI_TSA_HA_1_data.csv](https://github.com/bdemeshev/ts603/blob/master/2021-spring/BI_TSA_HA_1_data.csv), which represents quarterly sales of Walmart from 1984 to 2020. The sourse of the data is [ycharts.com](https://ycharts.com/companies/WMT/revenues). "
   ]
  },
  {
   "cell_type": "code",
   "execution_count": 20,
   "metadata": {},
   "outputs": [],
   "source": [
    "import pandas as pd\n",
    "import numpy as np\n",
    "from sktime.utils.plotting import plot_series\n",
    "from sktime.forecasting.model_selection import temporal_train_test_split\n",
    "from statsmodels.tsa.exponential_smoothing.ets import ETSModel\n",
    "from sklearn.metrics import  mean_absolute_error, mean_squared_error"
   ]
  },
  {
   "cell_type": "markdown",
   "metadata": {},
   "source": [
    "### 1.1 Read data (1 pt.)\n",
    "[back to contents](#Contents)"
   ]
  },
  {
   "cell_type": "markdown",
   "metadata": {},
   "source": [
    "Read the downloaded data from your local computer and name it ``` df ```\n",
    "\n",
    "Alternatively, you can skip 1.0 and access data directly putting ```'https://raw.github.com/bdemeshev/ts603/master/2021-spring/BI_TSA_HA_1_data.csv'``` inside ```read_csv```\n",
    "\n",
    "use ``` pd.read_csv('... .csv') ```"
   ]
  },
  {
   "cell_type": "code",
   "execution_count": 21,
   "metadata": {},
   "outputs": [
    {
     "name": "stdout",
     "output_type": "stream",
     "text": [
      "       sales  month  day  year\n",
      "0    134.710     10   31  2020\n",
      "1    137.740      7   31  2020\n",
      "2    134.620      4   30  2020\n",
      "3    141.670      1   31  2020\n",
      "4    127.990     10   31  2019\n",
      "..       ...    ...  ...   ...\n",
      "142    1.656      4   30  1985\n",
      "143    2.074      1   31  1985\n",
      "144    1.584     10   31  1984\n",
      "145    1.508      7   31  1984\n",
      "146    1.235      4   30  1984\n",
      "\n",
      "[147 rows x 4 columns]\n"
     ]
    }
   ],
   "source": [
    "#code here (1 pt.)\n",
    "df = pd.read_csv('https://raw.github.com/bdemeshev/ts603/master/2021-spring/BI_TSA_HA_1_data.csv')\n",
    "print(df)"
   ]
  },
  {
   "cell_type": "markdown",
   "metadata": {},
   "source": [
    "### 1.2 Check NAs (1 pt.)\n",
    "[back to contents](#Contents)"
   ]
  },
  {
   "cell_type": "markdown",
   "metadata": {},
   "source": [
    "Check whether ``` df ``` contains missing values(NAs):\n",
    "\n",
    "apply ``` isna().value_counts() ``` to ``` df ```"
   ]
  },
  {
   "cell_type": "code",
   "execution_count": 22,
   "metadata": {},
   "outputs": [
    {
     "data": {
      "text/plain": [
       "sales  month  day    year \n",
       "False  False  False  False    147\n",
       "dtype: int64"
      ]
     },
     "execution_count": 22,
     "metadata": {},
     "output_type": "execute_result"
    }
   ],
   "source": [
    "# code here (0.5 pt.)\n",
    "df.isna().value_counts()"
   ]
  },
  {
   "cell_type": "markdown",
   "metadata": {},
   "source": [
    "How many missing values are there in ``` df ```?"
   ]
  },
  {
   "cell_type": "markdown",
   "metadata": {},
   "source": [
    "# answer (0.5 pt.)\n",
    "df don't have missing values"
   ]
  },
  {
   "cell_type": "markdown",
   "metadata": {},
   "source": [
    "### 1.3 Dates transformation (2 pt.)\n",
    "[back to contents](#Contents)"
   ]
  },
  {
   "cell_type": "markdown",
   "metadata": {},
   "source": [
    "How are dates represented in the original dataset? "
   ]
  },
  {
   "cell_type": "code",
   "execution_count": 23,
   "metadata": {},
   "outputs": [
    {
     "name": "stdout",
     "output_type": "stream",
     "text": [
      "month, day, year\n"
     ]
    }
   ],
   "source": [
    "# answer (0.5 pt.)\n",
    "print('month, day, year')"
   ]
  },
  {
   "cell_type": "markdown",
   "metadata": {},
   "source": [
    "Transform dates to datetime format:\n",
    "\n",
    "``` df['date']=df['...']*10000+df['...']*100+df['...']*1 ```\n",
    "\n",
    "``` df['date']=pd.to_datetime(df['date'], format='%Y%m%d') ```\n",
    "\n",
    "change each ``` df['...'] ``` to one of ``` df['month'] ```, ``` df['year'] ```, ``` df['day'] ```according to ``` format='%Y%m%d'```"
   ]
  },
  {
   "cell_type": "code",
   "execution_count": 24,
   "metadata": {
    "scrolled": true
   },
   "outputs": [
    {
     "name": "stdout",
     "output_type": "stream",
     "text": [
      "       sales  month  day  year       date\n",
      "0    134.710     10   31  2020 2020-10-31\n",
      "1    137.740      7   31  2020 2020-07-31\n",
      "2    134.620      4   30  2020 2020-04-30\n",
      "3    141.670      1   31  2020 2020-01-31\n",
      "4    127.990     10   31  2019 2019-10-31\n",
      "..       ...    ...  ...   ...        ...\n",
      "142    1.656      4   30  1985 1985-04-30\n",
      "143    2.074      1   31  1985 1985-01-31\n",
      "144    1.584     10   31  1984 1984-10-31\n",
      "145    1.508      7   31  1984 1984-07-31\n",
      "146    1.235      4   30  1984 1984-04-30\n",
      "\n",
      "[147 rows x 5 columns]\n"
     ]
    }
   ],
   "source": [
    "# code here (0.5 pt.)\n",
    "df['date']=df['year']*10000+df['month']*100+df['day']*1\n",
    "df['date']=pd.to_datetime(df['date'], format='%Y%m%d')\n",
    "print(df)"
   ]
  },
  {
   "cell_type": "markdown",
   "metadata": {},
   "source": [
    "Change index to dates:\n",
    "\n",
    "``` df.index=.... ```"
   ]
  },
  {
   "cell_type": "code",
   "execution_count": 25,
   "metadata": {},
   "outputs": [
    {
     "name": "stdout",
     "output_type": "stream",
     "text": [
      "              sales  month  day  year       date\n",
      "date                                            \n",
      "2020-10-31  134.710     10   31  2020 2020-10-31\n",
      "2020-07-31  137.740      7   31  2020 2020-07-31\n",
      "2020-04-30  134.620      4   30  2020 2020-04-30\n",
      "2020-01-31  141.670      1   31  2020 2020-01-31\n",
      "2019-10-31  127.990     10   31  2019 2019-10-31\n",
      "...             ...    ...  ...   ...        ...\n",
      "1985-04-30    1.656      4   30  1985 1985-04-30\n",
      "1985-01-31    2.074      1   31  1985 1985-01-31\n",
      "1984-10-31    1.584     10   31  1984 1984-10-31\n",
      "1984-07-31    1.508      7   31  1984 1984-07-31\n",
      "1984-04-30    1.235      4   30  1984 1984-04-30\n",
      "\n",
      "[147 rows x 5 columns]\n"
     ]
    }
   ],
   "source": [
    "# code here (0.25 pt.)\n",
    "df.index=df['date']\n",
    "print(df)"
   ]
  },
  {
   "cell_type": "markdown",
   "metadata": {},
   "source": [
    "What is the size of the dataset?\n",
    "\n",
    "use ```.shape```"
   ]
  },
  {
   "cell_type": "code",
   "execution_count": 26,
   "metadata": {},
   "outputs": [
    {
     "data": {
      "text/plain": [
       "(147, 5)"
      ]
     },
     "execution_count": 26,
     "metadata": {},
     "output_type": "execute_result"
    }
   ],
   "source": [
    "# code here (0.25 pt.)\n",
    "df.shape"
   ]
  },
  {
   "cell_type": "markdown",
   "metadata": {},
   "source": [
    "Drop columns ['day', 'year','month','date']:\n",
    "\n",
    "```df=df.drop(..., axis=1)```"
   ]
  },
  {
   "cell_type": "code",
   "execution_count": 27,
   "metadata": {
    "scrolled": true
   },
   "outputs": [
    {
     "name": "stdout",
     "output_type": "stream",
     "text": [
      "              sales\n",
      "date               \n",
      "2020-10-31  134.710\n",
      "2020-07-31  137.740\n",
      "2020-04-30  134.620\n",
      "2020-01-31  141.670\n",
      "2019-10-31  127.990\n",
      "...             ...\n",
      "1985-04-30    1.656\n",
      "1985-01-31    2.074\n",
      "1984-10-31    1.584\n",
      "1984-07-31    1.508\n",
      "1984-04-30    1.235\n",
      "\n",
      "[147 rows x 1 columns]\n"
     ]
    }
   ],
   "source": [
    "# code here (0.25 pt.)\n",
    "df=df.drop(['day', 'year','month','date'], axis=1)\n",
    "print(df)"
   ]
  },
  {
   "cell_type": "markdown",
   "metadata": {},
   "source": [
    "What is the size of the dataset now?"
   ]
  },
  {
   "cell_type": "code",
   "execution_count": 28,
   "metadata": {},
   "outputs": [
    {
     "data": {
      "text/plain": [
       "(147, 1)"
      ]
     },
     "execution_count": 28,
     "metadata": {},
     "output_type": "execute_result"
    }
   ],
   "source": [
    "# code here (0.25 pt.)\n",
    "df.shape"
   ]
  },
  {
   "cell_type": "markdown",
   "metadata": {},
   "source": [
    "### 1.4 Plot data (0.75 pt.)\n",
    "[back to contents](#Contents)"
   ]
  },
  {
   "cell_type": "markdown",
   "metadata": {},
   "source": [
    "transform data frame column to series:\n",
    "\n",
    "```y=df['date']```"
   ]
  },
  {
   "cell_type": "code",
   "execution_count": 29,
   "metadata": {
    "scrolled": true
   },
   "outputs": [],
   "source": [
    "# code here (0.25 pt.)\n",
    "y=df['sales']"
   ]
  },
  {
   "cell_type": "markdown",
   "metadata": {},
   "source": [
    "```plot_series``` gets a series as an argument, whose dates sorted in ascending order.\n",
    "Transform your time series by changing descending order to ascending order:\n",
    "\n",
    "apply ```np.flip``` to ```y``` and name the result ```y```"
   ]
  },
  {
   "cell_type": "code",
   "execution_count": 30,
   "metadata": {},
   "outputs": [
    {
     "name": "stdout",
     "output_type": "stream",
     "text": [
      "date\n",
      "1984-04-30      1.235\n",
      "1984-07-31      1.508\n",
      "1984-10-31      1.584\n",
      "1985-01-31      2.074\n",
      "1985-04-30      1.656\n",
      "               ...   \n",
      "2019-10-31    127.990\n",
      "2020-01-31    141.670\n",
      "2020-04-30    134.620\n",
      "2020-07-31    137.740\n",
      "2020-10-31    134.710\n",
      "Name: sales, Length: 147, dtype: float64\n"
     ]
    }
   ],
   "source": [
    "# code here (0.25 pt.)\n",
    "y=np.flip(y)\n",
    "print(y)"
   ]
  },
  {
   "cell_type": "markdown",
   "metadata": {},
   "source": [
    "Plot the series using ```plot_series()```"
   ]
  },
  {
   "cell_type": "code",
   "execution_count": 14,
   "metadata": {},
   "outputs": [
    {
     "data": {
      "text/plain": [
       "(<Figure size 1152x288 with 1 Axes>, <AxesSubplot:ylabel='sales'>)"
      ]
     },
     "execution_count": 14,
     "metadata": {},
     "output_type": "execute_result"
    },
    {
     "data": {
      "image/png": "[encoded data removed]",
      "text/plain": [
       "<Figure size 1152x288 with 1 Axes>"
      ]
     },
     "metadata": {
      "needs_background": "light"
     },
     "output_type": "display_data"
    }
   ],
   "source": [
    "# code here (0.25 pt.)\n",
    "plot_series(y)"
   ]
  },
  {
   "cell_type": "markdown",
   "metadata": {},
   "source": [
    "### 1.5 Split data (0.75 pt.)\n",
    "[back to contents](#Contents)"
   ]
  },
  {
   "cell_type": "markdown",
   "metadata": {},
   "source": [
    "Split the data into train and test samples:\n",
    "\n",
    "``` temporal_train_test_split(...) ```\n",
    "\n",
    "choose ``` test_size=0.2 ```"
   ]
  },
  {
   "cell_type": "code",
   "execution_count": 15,
   "metadata": {},
   "outputs": [],
   "source": [
    "# code here (0.5 pt.)\n",
    "y_train, y_test = temporal_train_test_split(y, test_size=0.2)"
   ]
  },
  {
   "cell_type": "markdown",
   "metadata": {},
   "source": [
    "plot train and test samples using ``` plot_series ```"
   ]
  },
  {
   "cell_type": "code",
   "execution_count": 16,
   "metadata": {},
   "outputs": [
    {
     "data": {
      "text/plain": [
       "(<Figure size 1152x288 with 1 Axes>, <AxesSubplot:ylabel='sales'>)"
      ]
     },
     "execution_count": 16,
     "metadata": {},
     "output_type": "execute_result"
    },
    {
     "data": {
      "image/png": "[encoded data removed]",
      "text/plain": [
       "<Figure size 1152x288 with 1 Axes>"
      ]
     },
     "metadata": {
      "needs_background": "light"
     },
     "output_type": "display_data"
    }
   ],
   "source": [
    "# code here (0.25 pt.)\n",
    "plot_series(y_train, y_test, labels=['Train', 'Test'])"
   ]
  },
  {
   "cell_type": "markdown",
   "metadata": {},
   "source": [
    "## 2. ETS (7 pt.)"
   ]
  },
  {
   "cell_type": "markdown",
   "metadata": {},
   "source": [
    "### 2.1 Estimate ETS (MAA) and (AAM) (1 pt.)\n",
    "[back to contents](#Contents)"
   ]
  },
  {
   "cell_type": "markdown",
   "metadata": {},
   "source": [
    "Start with ETS (MAA). Estimate the model and name it ```model_MAA```:\n",
    "\n",
    "```ETSModel(..., error='...', trend='...', seasonal='...', seasonal_periods=...)```\n",
    "\n",
    "```fit_MAA=model_MAA.fit()```\n"
   ]
  },
  {
   "cell_type": "code",
   "execution_count": 45,
   "metadata": {},
   "outputs": [
    {
     "name": "stderr",
     "output_type": "stream",
     "text": [
      "/Users/ivanbycenko/opt/anaconda3/lib/python3.8/site-packages/statsmodels/tsa/base/tsa_model.py:524: ValueWarning: No frequency information was provided, so inferred frequency Q-OCT will be used.\n",
      "  warnings.warn('No frequency information was'\n"
     ]
    }
   ],
   "source": [
    "# code here (0.5 pt.)\n",
    "model_MAA = ETSModel(y_train, error='mul', trend='add', seasonal='add', seasonal_periods=4)\n",
    "fit_MAA=model_MAA.fit()"
   ]
  },
  {
   "cell_type": "markdown",
   "metadata": {},
   "source": [
    "Estimate ETS (AAM) with the same characteristics:\n",
    "    \n",
    "```ETSModel(..., error='...', trend='...', seasonal='...', seasonal_periods=...)```\n",
    "\n",
    "```fit_AAM=model_AAM.fit()```\n"
   ]
  },
  {
   "cell_type": "code",
   "execution_count": 46,
   "metadata": {},
   "outputs": [
    {
     "name": "stderr",
     "output_type": "stream",
     "text": [
      "/Users/ivanbycenko/opt/anaconda3/lib/python3.8/site-packages/statsmodels/tsa/base/tsa_model.py:524: ValueWarning: No frequency information was provided, so inferred frequency Q-OCT will be used.\n",
      "  warnings.warn('No frequency information was'\n"
     ]
    }
   ],
   "source": [
    "# code here (0.5 pt.)\n",
    "model_AAM = ETSModel(y_train, error='add', trend='add', seasonal='mul', seasonal_periods=4)\n",
    "fit_AAM=model_AAM.fit()"
   ]
  },
  {
   "cell_type": "markdown",
   "metadata": {},
   "source": [
    "### 2.2 Point forecasts (1 pt.)\n",
    "[back to contents](#Contents)"
   ]
  },
  {
   "cell_type": "markdown",
   "metadata": {},
   "source": [
    "Obtain point forecasts for ETS(MAA) with forecasting horizon=30 quarters:\n",
    "\n",
    "```fit_MAA.forecast(steps=...)```"
   ]
  },
  {
   "cell_type": "code",
   "execution_count": 47,
   "metadata": {},
   "outputs": [
    {
     "data": {
      "text/plain": [
       "2013-07-31    117.848870\n",
       "2013-10-31    117.364671\n",
       "2014-01-31    130.725436\n",
       "2014-04-30    117.901780\n",
       "2014-07-31    121.230476\n",
       "2014-10-31    120.746277\n",
       "2015-01-31    134.107043\n",
       "2015-04-30    121.283386\n",
       "2015-07-31    124.612083\n",
       "2015-10-31    124.127884\n",
       "2016-01-31    137.488649\n",
       "2016-04-30    124.664993\n",
       "2016-07-31    127.993690\n",
       "2016-10-31    127.509490\n",
       "2017-01-31    140.870256\n",
       "2017-04-30    128.046600\n",
       "2017-07-31    131.375296\n",
       "2017-10-31    130.891097\n",
       "2018-01-31    144.251863\n",
       "2018-04-30    131.428206\n",
       "2018-07-31    134.756903\n",
       "2018-10-31    134.272704\n",
       "2019-01-31    147.633469\n",
       "2019-04-30    134.809813\n",
       "2019-07-31    138.138509\n",
       "2019-10-31    137.654310\n",
       "2020-01-31    151.015076\n",
       "2020-04-30    138.191419\n",
       "2020-07-31    141.520116\n",
       "2020-10-31    141.035917\n",
       "Freq: Q-OCT, Name: simulation, dtype: float64"
      ]
     },
     "execution_count": 47,
     "metadata": {},
     "output_type": "execute_result"
    }
   ],
   "source": [
    "# code here (0.25 pt.)\n",
    "model_MAA_forecast = fit_MAA.forecast(steps=30)\n",
    "model_MAA_forecast"
   ]
  },
  {
   "cell_type": "markdown",
   "metadata": {},
   "source": [
    "Obtain point forecasts for ETS(AAM) with forecasting horizon=30 quarters:\n",
    "\n",
    "```fit_AAM.forecast(steps=...)```"
   ]
  },
  {
   "cell_type": "code",
   "execution_count": 48,
   "metadata": {},
   "outputs": [
    {
     "data": {
      "text/plain": [
       "2013-07-31    119.244377\n",
       "2013-10-31    117.867026\n",
       "2014-01-31    133.457304\n",
       "2014-04-30    118.815286\n",
       "2014-07-31    124.107213\n",
       "2014-10-31    122.625183\n",
       "2015-01-31    138.790994\n",
       "2015-04-30    123.516825\n",
       "2015-07-31    128.970049\n",
       "2015-10-31    127.383340\n",
       "2016-01-31    144.124684\n",
       "2016-04-30    128.218364\n",
       "2016-07-31    133.832885\n",
       "2016-10-31    132.141496\n",
       "2017-01-31    149.458374\n",
       "2017-04-30    132.919903\n",
       "2017-07-31    138.695721\n",
       "2017-10-31    136.899653\n",
       "2018-01-31    154.792064\n",
       "2018-04-30    137.621442\n",
       "2018-07-31    143.558557\n",
       "2018-10-31    141.657810\n",
       "2019-01-31    160.125754\n",
       "2019-04-30    142.322982\n",
       "2019-07-31    148.421392\n",
       "2019-10-31    146.415967\n",
       "2020-01-31    165.459444\n",
       "2020-04-30    147.024521\n",
       "2020-07-31    153.284228\n",
       "2020-10-31    151.174124\n",
       "Freq: Q-OCT, Name: simulation, dtype: float64"
      ]
     },
     "execution_count": 48,
     "metadata": {},
     "output_type": "execute_result"
    }
   ],
   "source": [
    "# code here (0.25 pt.)\n",
    "model_AAM_forecast = fit_AAM.forecast(steps=30)\n",
    "model_AAM_forecast"
   ]
  },
  {
   "cell_type": "markdown",
   "metadata": {},
   "source": [
    "Plot both forecasts (AAM) and (MAA), test and train data\n",
    "\n",
    "```plot_series()```"
   ]
  },
  {
   "cell_type": "code",
   "execution_count": 49,
   "metadata": {},
   "outputs": [
    {
     "data": {
      "text/plain": [
       "(<Figure size 1152x288 with 1 Axes>, <AxesSubplot:ylabel='sales'>)"
      ]
     },
     "execution_count": 49,
     "metadata": {},
     "output_type": "execute_result"
    },
    {
     "data": {
      "image/png": "[encoded data removed]",
      "text/plain": [
       "<Figure size 1152x288 with 1 Axes>"
      ]
     },
     "metadata": {
      "needs_background": "light"
     },
     "output_type": "display_data"
    }
   ],
   "source": [
    "# code here (0.5 pt.)\n",
    "plot_series(y_train,y_test,model_MAA_forecast,model_AAM_forecast)"
   ]
  },
  {
   "cell_type": "markdown",
   "metadata": {},
   "source": [
    "### 2.3 Interval forecasts ETS(MAA) (1 pt.)\n",
    "[back to contents](#Contents)"
   ]
  },
  {
   "cell_type": "markdown",
   "metadata": {},
   "source": [
    "Get 95% confidence intervals:\n",
    "\n",
    "```pred_MAA=fit_MAA.get_prediction(start='2013-07-31', end='2020-10-31') ```\n",
    "\n",
    "``` pred_MAA=pred_MAA.summary_frame(alpha=0.05) ```\n",
    "\n",
    "Expract upper and lower bounds from ```pred_MAA``` and name them ```upper_int``` and ```lower_int```\n"
   ]
  },
  {
   "cell_type": "code",
   "execution_count": 50,
   "metadata": {},
   "outputs": [],
   "source": [
    "# code here (0.5 pt.)\n",
    "pred_MAA=fit_MAA.get_prediction(start='2013-07-31', end='2020-10-31')\n",
    "pred_MAA=pred_MAA.summary_frame(alpha=0.05)\n",
    "upper_int = pred_MAA.pi_upper\n",
    "lower_int = pred_MAA.pi_lower"
   ]
  },
  {
   "cell_type": "markdown",
   "metadata": {},
   "source": [
    "Plot interval predictions:\n",
    "\n",
    "```plot_series()```"
   ]
  },
  {
   "cell_type": "code",
   "execution_count": 51,
   "metadata": {
    "scrolled": true
   },
   "outputs": [
    {
     "data": {
      "text/plain": [
       "(<Figure size 1152x288 with 1 Axes>, <AxesSubplot:ylabel='sales'>)"
      ]
     },
     "execution_count": 51,
     "metadata": {},
     "output_type": "execute_result"
    },
    {
     "data": {
      "image/png": "[encoded data removed]",
      "text/plain": [
       "<Figure size 1152x288 with 1 Axes>"
      ]
     },
     "metadata": {
      "needs_background": "light"
     },
     "output_type": "display_data"
    }
   ],
   "source": [
    "# code here (0.5 pt.)\n",
    "plot_series(y_train,y_test,lower_int,upper_int,labels=['y_train','y_test','lower_int','upper_int'])"
   ]
  },
  {
   "cell_type": "markdown",
   "metadata": {},
   "source": [
    "### 2.4 Interval forecasts ETS(AAM) (1 pt.)\n",
    "[back to contents](#Contents)"
   ]
  },
  {
   "cell_type": "markdown",
   "metadata": {},
   "source": [
    "Get 95% confidence intervals:\n",
    "\n",
    "``` pred_AAM=fit_AAM.get_prediction(start='2013-07-31', end='2020-10-31') ```\n",
    "\n",
    "``` pred_AAM=pred_AAM.summary_frame(alpha=0.05) ```\n",
    "\n",
    "Expract upper and lower bounds from ```pred_MAA``` and name them ```upper_int``` and ```lower_int```"
   ]
  },
  {
   "cell_type": "code",
   "execution_count": 52,
   "metadata": {},
   "outputs": [],
   "source": [
    "# code here (0.5 pt.)\n",
    "pred_AAM=fit_AAM.get_prediction(start='2013-07-31', end='2020-10-31')\n",
    "pred_AAM=pred_AAM.summary_frame(alpha=0.05)\n",
    "upper_int = pred_AAM.pi_upper\n",
    "lower_int = pred_AAM.pi_lower"
   ]
  },
  {
   "cell_type": "markdown",
   "metadata": {},
   "source": [
    "Plot interval predictions:\n",
    "\n",
    "```plot_series()```"
   ]
  },
  {
   "cell_type": "code",
   "execution_count": 53,
   "metadata": {
    "scrolled": true
   },
   "outputs": [
    {
     "data": {
      "text/plain": [
       "(<Figure size 1152x288 with 1 Axes>, <AxesSubplot:ylabel='sales'>)"
      ]
     },
     "execution_count": 53,
     "metadata": {},
     "output_type": "execute_result"
    },
    {
     "data": {
      "image/png": "[encoded data removed]",
      "text/plain": [
       "<Figure size 1152x288 with 1 Axes>"
      ]
     },
     "metadata": {
      "needs_background": "light"
     },
     "output_type": "display_data"
    }
   ],
   "source": [
    "# code here (0.5 pt.)\n",
    "plot_series(y_train,y_test,lower_int,upper_int,labels=['y_train','y_test','lower_int','upper_int'])"
   ]
  },
  {
   "cell_type": "markdown",
   "metadata": {},
   "source": [
    "### 2.5 Forecast quality metrics (2 pt.)\n",
    "[back to contents](#Contents)"
   ]
  },
  {
   "cell_type": "markdown",
   "metadata": {},
   "source": [
    "Calculate the following metrics for both ETS(MAA) and ETS(AAM) predictions:"
   ]
  },
  {
   "cell_type": "markdown",
   "metadata": {},
   "source": [
    "$MAE = \\frac{\\sum\\limits_{i=1}^n |y_i-\\hat{y}_i|}{n}$\n",
    "\n",
    "```python\n",
    "sklearn.metrics.mean_absolute_error\n",
    "```"
   ]
  },
  {
   "cell_type": "code",
   "execution_count": 54,
   "metadata": {},
   "outputs": [
    {
     "data": {
      "text/plain": [
       "6.394542702158996"
      ]
     },
     "execution_count": 54,
     "metadata": {},
     "output_type": "execute_result"
    }
   ],
   "source": [
    "# code here (0.5 pt.) MAA\n",
    "from sklearn.metrics import mean_absolute_error,mean_squared_error\n",
    "mean_absolute_error(y_test, model_MAA_forecast)"
   ]
  },
  {
   "cell_type": "code",
   "execution_count": 55,
   "metadata": {},
   "outputs": [
    {
     "data": {
      "text/plain": [
       "12.708898765471032"
      ]
     },
     "execution_count": 55,
     "metadata": {},
     "output_type": "execute_result"
    }
   ],
   "source": [
    "# code here (0.5 pt.) AAM\n",
    "mean_absolute_error(y_test, model_AAM_forecast)"
   ]
  },
  {
   "cell_type": "markdown",
   "metadata": {},
   "source": [
    "$MSE = \\frac{\\sum\\limits_{i=1}^n (y_i-\\hat{y}_i)^2}{n}$\n",
    "\n",
    "```python\n",
    "sklearn.metrics.mean_squared_error\n",
    "```"
   ]
  },
  {
   "cell_type": "code",
   "execution_count": 56,
   "metadata": {},
   "outputs": [
    {
     "data": {
      "text/plain": [
       "50.57141271152441"
      ]
     },
     "execution_count": 56,
     "metadata": {},
     "output_type": "execute_result"
    }
   ],
   "source": [
    "# code here (0.5 pt.) MAA\n",
    "mean_squared_error(y_test, model_MAA_forecast)"
   ]
  },
  {
   "cell_type": "code",
   "execution_count": 57,
   "metadata": {},
   "outputs": [
    {
     "data": {
      "text/plain": [
       "195.96214763396836"
      ]
     },
     "execution_count": 57,
     "metadata": {},
     "output_type": "execute_result"
    }
   ],
   "source": [
    "# code here (0.5 pt.) AAM\n",
    "mean_squared_error(y_test, model_AAM_forecast)"
   ]
  },
  {
   "cell_type": "markdown",
   "metadata": {},
   "source": [
    "$MAPE = \\frac{100}{n}\\frac{\\sum\\limits_{i=1}^n |y_i-\\hat{y}_i|}{y_i}$ \n",
    "\n",
    "```python\n",
    "def mean_absolute_percentage_error(y_true, y_pred): \n",
    "    return np.mean(np.abs((y_true - y_pred) / y_true)) * 100\n",
    "```"
   ]
  },
  {
   "cell_type": "markdown",
   "metadata": {},
   "source": [
    "Create a new function to calculate MAPE"
   ]
  },
  {
   "cell_type": "code",
   "execution_count": 58,
   "metadata": {},
   "outputs": [],
   "source": [
    "# code here (0.5 pt.)\n",
    "from sklearn.metrics import  mean_absolute_error, mean_squared_error,mean_absolute_error\n",
    "def mean_absolute_percentage_error(y_true, y_pred): \n",
    "    return np.mean(np.abs((y_true - y_pred) / y_true)) * 100"
   ]
  },
  {
   "cell_type": "markdown",
   "metadata": {},
   "source": [
    "Calculate MAPE:"
   ]
  },
  {
   "cell_type": "code",
   "execution_count": 59,
   "metadata": {},
   "outputs": [
    {
     "data": {
      "text/plain": [
       "5.091697969378487"
      ]
     },
     "execution_count": 59,
     "metadata": {},
     "output_type": "execute_result"
    }
   ],
   "source": [
    "# code here (0.25 pt.) MAA\n",
    "mean_absolute_percentage_error(y_test, model_MAA_forecast)"
   ]
  },
  {
   "cell_type": "code",
   "execution_count": 60,
   "metadata": {},
   "outputs": [
    {
     "data": {
      "text/plain": [
       "9.993317967703987"
      ]
     },
     "execution_count": 60,
     "metadata": {},
     "output_type": "execute_result"
    }
   ],
   "source": [
    "# code here (0.25 pt.) AAM\n",
    "mean_absolute_percentage_error(y_test, model_AAM_forecast)"
   ]
  },
  {
   "cell_type": "markdown",
   "metadata": {},
   "source": [
    "### 2.6 What is the best model according to the metrics above? (1 pt.)"
   ]
  },
  {
   "cell_type": "code",
   "execution_count": 62,
   "metadata": {},
   "outputs": [
    {
     "name": "stdout",
     "output_type": "stream",
     "text": [
      "MAA\n"
     ]
    }
   ],
   "source": [
    "# code here (1 pt.)\n",
    "print('MAA')"
   ]
  },
  {
   "cell_type": "code",
   "execution_count": null,
   "metadata": {},
   "outputs": [],
   "source": []
  }
 ],
 "metadata": {
  "kernelspec": {
   "display_name": "Python 3",
   "language": "python",
   "name": "python3"
  },
  "language_info": {
   "codemirror_mode": {
    "name": "ipython",
    "version": 3
   },
   "file_extension": ".py",
   "mimetype": "text/x-python",
   "name": "python",
   "nbconvert_exporter": "python",
   "pygments_lexer": "ipython3",
   "version": "3.8.5"
  }
 },
 "nbformat": 4,
 "nbformat_minor": 2
}
